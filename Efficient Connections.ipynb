{
 "cells": [
  {
   "cell_type": "code",
   "execution_count": 14,
   "metadata": {},
   "outputs": [],
   "source": [
    "import math\n",
    "import itertools\n",
    "import numpy as np\n",
    "import numpy.linalg as la\n",
    "import networkx as nx\n",
    "import networkx.algorithms as algs\n",
    "import matplotlib.pyplot as plt"
   ]
  },
  {
   "cell_type": "code",
   "execution_count": 2,
   "metadata": {},
   "outputs": [],
   "source": [
    "def nCr(n,r):\n",
    "    f = math.factorial\n",
    "    return f(n) // f(r) // f(n-r)"
   ]
  },
  {
   "cell_type": "code",
   "execution_count": 30,
   "metadata": {},
   "outputs": [],
   "source": [
    "def get_average_dist(adjacency_matrix, nodes):\n",
    "    graph = nx.from_numpy_array(adjacency_matrix)\n",
    "    subgraphs = [graph.subgraph(c).copy() for c in algs.connected_components(graph)]\n",
    "    pathsums = [1]\n",
    "    for subgraph_connected in subgraphs:\n",
    "        pathsums.append(nx.average_shortest_path_length(subgraph_connected))\n",
    "    return sum(pathsums)/len(pathsums)\n",
    "#     paths = dict(nx.all_pairs_shortest_path(graph))\n",
    "#     print(paths)\n",
    "#     pathsum = 0\n",
    "#     for i in range(nodes):\n",
    "#         for j in range(nodes):\n",
    "#             pathsum += sum(paths[i][j])\n",
    "#     average_dist = pathsum/max_l\n",
    "#     return average_dist"
   ]
  },
  {
   "cell_type": "code",
   "execution_count": 31,
   "metadata": {},
   "outputs": [],
   "source": [
    "def get_density(adjacency_matrix, nodes):\n",
    "    density_sum = 0\n",
    "    for i in range(adjacency_matrix.shape[0]):\n",
    "        for j in range(adjacency_matrix.shape[1]):\n",
    "            if i < j:\n",
    "                density_sum += adjacency_matrix[i][j]\n",
    "    density = density_sum/nCr(nodes, 2)\n",
    "    return density"
   ]
  },
  {
   "cell_type": "code",
   "execution_count": 32,
   "metadata": {},
   "outputs": [],
   "source": [
    "def cost(nodes, alpha, adjacency_matrix):\n",
    "    return alpha*get_average_dist(adjacency_matrix, nodes) + (1-alpha)*get_density(adjacency_matrix, nodes)\n"
   ]
  },
  {
   "cell_type": "code",
   "execution_count": 7,
   "metadata": {},
   "outputs": [],
   "source": [
    "nodes = 5\n",
    "alpha = 0.5"
   ]
  },
  {
   "cell_type": "code",
   "execution_count": 8,
   "metadata": {},
   "outputs": [],
   "source": [
    "combinations = itertools.combinations_with_replacement([0,1], nodes)\n",
    "permutations = []\n",
    "for item in combinations:\n",
    "    permutations += itertools.permutations(item)\n",
    "raw_matrices = list(itertools.permutations(set(permutations), nodes))"
   ]
  },
  {
   "cell_type": "code",
   "execution_count": 10,
   "metadata": {},
   "outputs": [
    {
     "data": {
      "text/plain": [
       "[[1, 1, 1, 0, 0],\n",
       " [0, 1, 0, 0, 1],\n",
       " [0, 0, 1, 0, 0],\n",
       " [1, 0, 1, 1, 0],\n",
       " [0, 0, 0, 0, 0]]"
      ]
     },
     "execution_count": 10,
     "metadata": {},
     "output_type": "execute_result"
    }
   ],
   "source": [
    "matrices = []\n",
    "for raw_matrix in raw_matrices:\n",
    "    matrix = []\n",
    "    for raw_row in raw_matrix:\n",
    "        matrix.append(list(raw_row))\n",
    "    matrices.append(matrix)\n",
    "matrices[0]"
   ]
  },
  {
   "cell_type": "code",
   "execution_count": 11,
   "metadata": {},
   "outputs": [],
   "source": [
    "costs = [[], []]\n",
    "\n",
    "for matrix in matrices:\n",
    "    adjacency_matrix = np.array(matrix)\n",
    "    costs[0].append(adjacency_matrix)\n",
    "    costs[1].append(cost(nodes, alpha, adjacency_matrix))"
   ]
  },
  {
   "cell_type": "code",
   "execution_count": 12,
   "metadata": {},
   "outputs": [
    {
     "name": "stdout",
     "output_type": "stream",
     "text": [
      "0.0\n"
     ]
    },
    {
     "data": {
      "text/plain": [
       "array([[0, 0, 0, 0, 0],\n",
       "       [0, 1, 0, 0, 0],\n",
       "       [0, 0, 1, 0, 0],\n",
       "       [0, 0, 0, 1, 0],\n",
       "       [0, 0, 0, 0, 1]])"
      ]
     },
     "execution_count": 12,
     "metadata": {},
     "output_type": "execute_result"
    }
   ],
   "source": [
    "min_cost = min(costs[1])\n",
    "low_i = costs[1].index(min_cost)\n",
    "print(min_cost)\n",
    "costs[0][low_i]"
   ]
  },
  {
   "cell_type": "code",
   "execution_count": 13,
   "metadata": {},
   "outputs": [],
   "source": [
    "all_costs = sorted(costs[1])"
   ]
  },
  {
   "cell_type": "code",
   "execution_count": 34,
   "metadata": {},
   "outputs": [
    {
     "data": {
      "image/png": "[encoded data removed]",
      "text/plain": [
       "<Figure size 864x576 with 1 Axes>"
      ]
     },
     "metadata": {
      "needs_background": "light"
     },
     "output_type": "display_data"
    }
   ],
   "source": [
    "plt.rcParams[\"figure.figsize\"] = (12,8)\n",
    "plt.plot(all_costs)\n",
    "plt.ylabel('cost function')\n",
    "plt.show()"
   ]
  },
  {
   "cell_type": "code",
   "execution_count": null,
   "metadata": {},
   "outputs": [],
   "source": []
  }
 ],
 "metadata": {
  "kernelspec": {
   "display_name": "Python 3",
   "language": "python",
   "name": "python3"
  },
  "language_info": {
   "codemirror_mode": {
    "name": "ipython",
    "version": 3
   },
   "file_extension": ".py",
   "mimetype": "text/x-python",
   "name": "python",
   "nbconvert_exporter": "python",
   "pygments_lexer": "ipython3",
   "version": "3.8.5"
  }
 },
 "nbformat": 4,
 "nbformat_minor": 4
}
