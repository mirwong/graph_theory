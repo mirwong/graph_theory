{
 "cells": [
  {
   "cell_type": "code",
   "execution_count": 65,
   "metadata": {},
   "outputs": [],
   "source": [
    "import numpy as np\n",
    "import math"
   ]
  },
  {
   "cell_type": "code",
   "execution_count": 92,
   "metadata": {},
   "outputs": [],
   "source": [
    "def dyson_toy_stochastic(n, q, b, N, iters):\n",
    "    a = n+q\n",
    "    x_ran_list = [x*.01 for x in range(1,99)]\n",
    "    x_ran = np.arange(.01,.01, .099)[:, np.newaxis]\n",
    "    V_ran = np.array([x*np.log(x)+np.log(1-x)+x*np.log(a)-x**2*np.log(b)/2 for x in x_ran_list])\n",
    "    V_min = np.amin(V_ran)\n",
    "    V_ran = np.array([V-V_min+1e-6 for V in V_ran])\n",
    "    P_ran = np.array([math.exp(-N*V) for V in V_ran])\n",
    "    P_sum = sum(P_ran)\n",
    "    P_ran = np.array([P/P_sum for P in P_ran])\n",
    "    Pc = np.cumsum(P_ran)\n",
    "    abs_diff_ran = np.array([abs(i) for i in np.diff(V_ran)])\n",
    "    I = np.nonzero(abs_diff_ran)\n",
    "    nonzero_V = np.take(V_ran, I)\n",
    "    print(nonzero_V)\n",
    "    J = np.amax(nonzero_V)\n",
    "    I_J = np.argmax(nonzero_V)\n",
    "    print(I_J)\n",
    "    I_scaled = [e*J for e in I]\n",
    "#     beta = \n",
    "    J1 = np.amin(np.take(V_ran, I[1:I_J]))\n",
    "    J2 = np.amin(np.take(V_ran, I[I_J:]))\n",
    "    alpha = np.array([x*J1 for x in x_ran_list])\n",
    "    gamma_J2 = np.array([x+J2 for x in x_ran_list])\n",
    "    gamma = np.multiply(gamma_J2, x_ran)\n",
    "    \n",
    "#     J1 = np.amin(np.take())\n",
    "    "
   ]
  },
  {
   "cell_type": "code",
   "execution_count": 93,
   "metadata": {},
   "outputs": [
    {
     "name": "stdout",
     "output_type": "stream",
     "text": [
      "[[3.8797697  3.85811077 3.84114844 3.82704606 3.81493014 3.8042852\n",
      "  3.79476981 3.78614051 3.77821458 3.77084955 3.76393098 3.75736476\n",
      "  3.75107194 3.74498524 3.73904647 3.73320469 3.72741484 3.72163664\n",
      "  3.71583381 3.70997335 3.7040251  3.69796122 3.69175592 3.68538511\n",
      "  3.6788262  3.67205785 3.66505983 3.65781284 3.65029841 3.64249873\n",
      "  3.63439659 3.62597528 3.61721849 3.60811023 3.59863479 3.58877664\n",
      "  3.57852038 3.56785069 3.55675227 3.54520975 3.53320769 3.52073049\n",
      "  3.50776236 3.49428722 3.48028869 3.46575003 3.45065402 3.43498299\n",
      "  3.41871867 3.40184216 3.38433383 3.36617326 3.34733914 3.32780916\n",
      "  3.30755993 3.28656684 3.26480391 3.2422437  3.21885711 3.19461321\n",
      "  3.16947904 3.14341938 3.11639651 3.08836991 3.0592959  3.02912735\n",
      "  2.99781313 2.96529774 2.93152061 2.89641555 2.85990987 2.82192353\n",
      "  2.782368   2.74114503 2.69814507 2.65324542 2.60630798 2.55717651\n",
      "  2.50567325 2.45159469 2.39470624 2.33473558 2.27136393 2.20421481\n",
      "  2.13283909 2.05669493 1.97512019 1.88729392 1.79218087 1.68844962\n",
      "  1.57434741 1.44750082 1.30458282 1.14072131 0.94836357 0.71485734\n",
      "  0.41648502]]\n",
      "0\n"
     ]
    },
    {
     "ename": "ValueError",
     "evalue": "zero-size array to reduction operation minimum which has no identity",
     "output_type": "error",
     "traceback": [
      "\u001b[0;31m---------------------------------------------------------------------------\u001b[0m",
      "\u001b[0;31mValueError\u001b[0m                                Traceback (most recent call last)",
      "\u001b[0;32m<ipython-input-93-a3f81ba0a917>\u001b[0m in \u001b[0;36m<module>\u001b[0;34m\u001b[0m\n\u001b[0;32m----> 1\u001b[0;31m \u001b[0mdyson_toy_stochastic\u001b[0m\u001b[0;34m(\u001b[0m\u001b[0;36m8\u001b[0m\u001b[0;34m,\u001b[0m\u001b[0;36m0.44\u001b[0m\u001b[0;34m,\u001b[0m\u001b[0;36m75\u001b[0m\u001b[0;34m,\u001b[0m\u001b[0;36m4e3\u001b[0m\u001b[0;34m,\u001b[0m\u001b[0;36m1e4\u001b[0m\u001b[0;34m)\u001b[0m\u001b[0;34m\u001b[0m\u001b[0;34m\u001b[0m\u001b[0m\n\u001b[0m",
      "\u001b[0;32m<ipython-input-92-793a05ab9f7d>\u001b[0m in \u001b[0;36mdyson_toy_stochastic\u001b[0;34m(n, q, b, N, iters)\u001b[0m\n\u001b[1;32m     19\u001b[0m     \u001b[0mI_scaled\u001b[0m \u001b[0;34m=\u001b[0m \u001b[0;34m[\u001b[0m\u001b[0me\u001b[0m\u001b[0;34m*\u001b[0m\u001b[0mJ\u001b[0m \u001b[0;32mfor\u001b[0m \u001b[0me\u001b[0m \u001b[0;32min\u001b[0m \u001b[0mI\u001b[0m\u001b[0;34m]\u001b[0m\u001b[0;34m\u001b[0m\u001b[0;34m\u001b[0m\u001b[0m\n\u001b[1;32m     20\u001b[0m \u001b[0;31m#     beta =\u001b[0m\u001b[0;34m\u001b[0m\u001b[0;34m\u001b[0m\u001b[0;34m\u001b[0m\u001b[0m\n\u001b[0;32m---> 21\u001b[0;31m     \u001b[0mJ1\u001b[0m \u001b[0;34m=\u001b[0m \u001b[0mnp\u001b[0m\u001b[0;34m.\u001b[0m\u001b[0mamin\u001b[0m\u001b[0;34m(\u001b[0m\u001b[0mnp\u001b[0m\u001b[0;34m.\u001b[0m\u001b[0mtake\u001b[0m\u001b[0;34m(\u001b[0m\u001b[0mV_ran\u001b[0m\u001b[0;34m,\u001b[0m \u001b[0mI\u001b[0m\u001b[0;34m[\u001b[0m\u001b[0;36m1\u001b[0m\u001b[0;34m:\u001b[0m\u001b[0mI_J\u001b[0m\u001b[0;34m]\u001b[0m\u001b[0;34m)\u001b[0m\u001b[0;34m)\u001b[0m\u001b[0;34m\u001b[0m\u001b[0;34m\u001b[0m\u001b[0m\n\u001b[0m\u001b[1;32m     22\u001b[0m     \u001b[0mJ2\u001b[0m \u001b[0;34m=\u001b[0m \u001b[0mnp\u001b[0m\u001b[0;34m.\u001b[0m\u001b[0mamin\u001b[0m\u001b[0;34m(\u001b[0m\u001b[0mnp\u001b[0m\u001b[0;34m.\u001b[0m\u001b[0mtake\u001b[0m\u001b[0;34m(\u001b[0m\u001b[0mV_ran\u001b[0m\u001b[0;34m,\u001b[0m \u001b[0mI\u001b[0m\u001b[0;34m[\u001b[0m\u001b[0mI_J\u001b[0m\u001b[0;34m:\u001b[0m\u001b[0;34m]\u001b[0m\u001b[0;34m)\u001b[0m\u001b[0;34m)\u001b[0m\u001b[0;34m\u001b[0m\u001b[0;34m\u001b[0m\u001b[0m\n\u001b[1;32m     23\u001b[0m     \u001b[0malpha\u001b[0m \u001b[0;34m=\u001b[0m \u001b[0mnp\u001b[0m\u001b[0;34m.\u001b[0m\u001b[0marray\u001b[0m\u001b[0;34m(\u001b[0m\u001b[0;34m[\u001b[0m\u001b[0mx\u001b[0m\u001b[0;34m*\u001b[0m\u001b[0mJ1\u001b[0m \u001b[0;32mfor\u001b[0m \u001b[0mx\u001b[0m \u001b[0;32min\u001b[0m \u001b[0mx_ran_list\u001b[0m\u001b[0;34m]\u001b[0m\u001b[0;34m)\u001b[0m\u001b[0;34m\u001b[0m\u001b[0;34m\u001b[0m\u001b[0m\n",
      "\u001b[0;32m<__array_function__ internals>\u001b[0m in \u001b[0;36mamin\u001b[0;34m(*args, **kwargs)\u001b[0m\n",
      "\u001b[0;32m~/opt/anaconda3/lib/python3.8/site-packages/numpy/core/fromnumeric.py\u001b[0m in \u001b[0;36mamin\u001b[0;34m(a, axis, out, keepdims, initial, where)\u001b[0m\n\u001b[1;32m   2743\u001b[0m     \u001b[0;36m6\u001b[0m\u001b[0;34m\u001b[0m\u001b[0;34m\u001b[0m\u001b[0m\n\u001b[1;32m   2744\u001b[0m     \"\"\"\n\u001b[0;32m-> 2745\u001b[0;31m     return _wrapreduction(a, np.minimum, 'min', axis, None, out,\n\u001b[0m\u001b[1;32m   2746\u001b[0m                           keepdims=keepdims, initial=initial, where=where)\n\u001b[1;32m   2747\u001b[0m \u001b[0;34m\u001b[0m\u001b[0m\n",
      "\u001b[0;32m~/opt/anaconda3/lib/python3.8/site-packages/numpy/core/fromnumeric.py\u001b[0m in \u001b[0;36m_wrapreduction\u001b[0;34m(obj, ufunc, method, axis, dtype, out, **kwargs)\u001b[0m\n\u001b[1;32m     88\u001b[0m                 \u001b[0;32mreturn\u001b[0m \u001b[0mreduction\u001b[0m\u001b[0;34m(\u001b[0m\u001b[0maxis\u001b[0m\u001b[0;34m=\u001b[0m\u001b[0maxis\u001b[0m\u001b[0;34m,\u001b[0m \u001b[0mout\u001b[0m\u001b[0;34m=\u001b[0m\u001b[0mout\u001b[0m\u001b[0;34m,\u001b[0m \u001b[0;34m**\u001b[0m\u001b[0mpasskwargs\u001b[0m\u001b[0;34m)\u001b[0m\u001b[0;34m\u001b[0m\u001b[0;34m\u001b[0m\u001b[0m\n\u001b[1;32m     89\u001b[0m \u001b[0;34m\u001b[0m\u001b[0m\n\u001b[0;32m---> 90\u001b[0;31m     \u001b[0;32mreturn\u001b[0m \u001b[0mufunc\u001b[0m\u001b[0;34m.\u001b[0m\u001b[0mreduce\u001b[0m\u001b[0;34m(\u001b[0m\u001b[0mobj\u001b[0m\u001b[0;34m,\u001b[0m \u001b[0maxis\u001b[0m\u001b[0;34m,\u001b[0m \u001b[0mdtype\u001b[0m\u001b[0;34m,\u001b[0m \u001b[0mout\u001b[0m\u001b[0;34m,\u001b[0m \u001b[0;34m**\u001b[0m\u001b[0mpasskwargs\u001b[0m\u001b[0;34m)\u001b[0m\u001b[0;34m\u001b[0m\u001b[0;34m\u001b[0m\u001b[0m\n\u001b[0m\u001b[1;32m     91\u001b[0m \u001b[0;34m\u001b[0m\u001b[0m\n\u001b[1;32m     92\u001b[0m \u001b[0;34m\u001b[0m\u001b[0m\n",
      "\u001b[0;31mValueError\u001b[0m: zero-size array to reduction operation minimum which has no identity"
     ]
    }
   ],
   "source": [
    "dyson_toy_stochastic(8,0.44,75,4e3,1e4)"
   ]
  },
  {
   "cell_type": "code",
   "execution_count": null,
   "metadata": {},
   "outputs": [],
   "source": []
  }
 ],
 "metadata": {
  "kernelspec": {
   "display_name": "Python 3",
   "language": "python",
   "name": "python3"
  },
  "language_info": {
   "codemirror_mode": {
    "name": "ipython",
    "version": 3
   },
   "file_extension": ".py",
   "mimetype": "text/x-python",
   "name": "python",
   "nbconvert_exporter": "python",
   "pygments_lexer": "ipython3",
   "version": "3.8.3"
  }
 },
 "nbformat": 4,
 "nbformat_minor": 4
}
